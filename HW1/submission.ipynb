{
 "cells": [
  {
   "cell_type": "markdown",
   "metadata": {},
   "source": [
    "# Homework 1: Six Degrees of Kevin Bacon\n",
    "\n",
    "Run the cell below to get all of the methods ready for the BFS and Bi-BFS"
   ]
  },
  {
   "cell_type": "code",
   "execution_count": 23,
   "metadata": {},
   "outputs": [
    {
     "name": "stdout",
     "output_type": "stream",
     "text": [
      "Done making graph...\n"
     ]
    }
   ],
   "source": [
    "from graph_tools import graph\n",
    "from collections import deque\n",
    "\n",
    "bacon_graph = graph()\n",
    "\n",
    "# opening the file with the imdb data\n",
    "file = open('all_imdb_cleaned.txt','r')\n",
    "# get all lines in a list\n",
    "lines = file.readlines()\n",
    "# close the file\n",
    "file.close()\n",
    "\n",
    "for line in lines: \n",
    "    # movie name and actors split by space\n",
    "    line_parts = line.split()\n",
    "    #print(line_parts)\n",
    "    # adding all edges from each actor to each other\n",
    "    for actor in range(1, len(line_parts)):\n",
    "        for next in range(actor,len(line_parts)):\n",
    "            bacon_graph.Add_und_edge(line_parts[actor], line_parts[next], line_parts[0])\n",
    "print(\"Done making graph...\")\n",
    "\n",
    "# bfs method\n",
    "def bfs(source, dest):\n",
    "    print(\"Searching...\")\n",
    "    # check to see if the actors are in the graph\n",
    "    if source not in bacon_graph.vertices:\n",
    "        return source + \" does not exist in the data\"\n",
    "    if dest not in bacon_graph.vertices:\n",
    "        return dest + \" does not exist in the data\"\n",
    "    # queue for next to search\n",
    "    queue = deque()\n",
    "    # pred for predeessors \n",
    "    pred = dict()\n",
    "    # visited for previously seen nodes\n",
    "    visited = set()\n",
    "    # mark node1 (source) as visited\n",
    "    pred[source] = None\n",
    "    visited.add(source)\n",
    "    # add node1 to the queue\n",
    "    queue.append(source)\n",
    "    # loop through queue\n",
    "    while len(queue) > 0:\n",
    "        # get the first node in queue\n",
    "        node = queue.popleft()\n",
    "        # check if node is destination\n",
    "        if node == dest:\n",
    "            # generate the path and return it\n",
    "            return get_path(node, pred)\n",
    "        # loop through the adjacent vertices of the node\n",
    "        for neighbor in bacon_graph.adj_list[node]:\n",
    "            \n",
    "            # check if we've seen neighbor already\n",
    "            if neighbor not in visited:\n",
    "                # add neighbor to visited\n",
    "                visited.add(neighbor)\n",
    "                # set pred node for neighbor to current node \n",
    "                pred[neighbor] = node\n",
    "                # add neighbor to queue\n",
    "                queue.append(neighbor)\n",
    "        \n",
    "    return \"no path found\"\n",
    "\n",
    "# creating the path from source to destination\n",
    "def get_path(node, pred):\n",
    "    # this is where we store the predessesors in order\n",
    "    print(\"Generating Path...\")\n",
    "    path = []\n",
    "    # current node tracker\n",
    "    current_node = node\n",
    "    # loop until end of path\n",
    "    while True:\n",
    "        # the prev node comes from the pred dict\n",
    "        prev_node = pred[current_node]\n",
    "        # check if we have reached the source\n",
    "        if prev_node is None:\n",
    "            path.append(current_node)\n",
    "            break\n",
    "        # the movie is set from the adj_list \n",
    "        movie  =  bacon_graph.adj_list[current_node][prev_node]\n",
    "        # if not add the movie and the current node to the path message\n",
    "        path.append(f\" <-{movie}-> {current_node}\")\n",
    "        # set your current node to the pred of itself\n",
    "        current_node = prev_node  \n",
    "    # reverse the path to show from source to destination\n",
    "    path.reverse()\n",
    "    # join all the elements to form on path\n",
    "    return \"\".join(path)\n"
   ]
  },
  {
   "cell_type": "markdown",
   "metadata": {},
   "source": [
    "### We will start by running regular BFS between Brad_Pitt and Amitabh_Bachchan"
   ]
  },
  {
   "cell_type": "code",
   "execution_count": 24,
   "metadata": {},
   "outputs": [
    {
     "name": "stdout",
     "output_type": "stream",
     "text": [
      "Searching...\n",
      "Generating Path...\n"
     ]
    },
    {
     "data": {
      "text/plain": [
       "'Brad_Pitt <-The_Audition-> Leonardo_DiCaprio <-Louder_Together-> Amitabh_Bachchan'"
      ]
     },
     "execution_count": 24,
     "metadata": {},
     "output_type": "execute_result"
    }
   ],
   "source": [
    "bfs(\"Brad_Pitt\", \"Amitabh_Bachchan\")"
   ]
  }
 ],
 "metadata": {
  "kernelspec": {
   "display_name": "Python 3",
   "language": "python",
   "name": "python3"
  },
  "language_info": {
   "codemirror_mode": {
    "name": "ipython",
    "version": 3
   },
   "file_extension": ".py",
   "mimetype": "text/x-python",
   "name": "python",
   "nbconvert_exporter": "python",
   "pygments_lexer": "ipython3",
   "version": "3.12.8"
  }
 },
 "nbformat": 4,
 "nbformat_minor": 2
}
