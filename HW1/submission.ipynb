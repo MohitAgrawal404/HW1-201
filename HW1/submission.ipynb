{
 "cells": [
  {
   "cell_type": "markdown",
   "metadata": {},
   "source": [
    "# Homework 1: Six Degrees of Kevin Bacon\n",
    "\n",
    "Run the cell below to get all of the methods ready for the BFS and Bi-BFS"
   ]
  },
  {
   "cell_type": "code",
   "execution_count": 1,
   "metadata": {},
   "outputs": [
    {
     "name": "stdout",
     "output_type": "stream",
     "text": [
      "5\n"
     ]
    }
   ],
   "source": [
    "from graph_tools import graph\n",
    "\n",
    "bacon_graph = graph()\n",
    "\n",
    "# opening the file with the imdb data\n",
    "file = open('all_imdb_cleaned.txt','r')\n",
    "# get all lines in a list\n",
    "lines = file.readlines()\n",
    "# close the file\n",
    "file.close()\n",
    "\n",
    "for line in lines:\n",
    "    # movie name and two actors split by space\n",
    "    line_parts = line.split()\n",
    "    # getting both actors\n",
    "    actors = []\n",
    "    actors.append(line_parts[1])\n",
    "    actors.append(line_parts[2])\n",
    "    # adding the nodes\n",
    "    bacon_graph.vertices.add(actors[1])\n",
    "    bacon_graph.vertices.add(actors[2])\n",
    "    # adding the edge\n",
    "    bacon_graph.Add_und_edge(actors[1], actors[2])\n",
    "\n",
    "# bfs method\n",
    "def bfs(node1, node2):\n",
    "    \n",
    "    return 0\n",
    "\n",
    "\n",
    "\n",
    "\n",
    "\n",
    "    \n",
    "    \n",
    "    \n",
    "    \n",
    "    \n",
    "    \n",
    "\n",
    "\n",
    "\n",
    "\n",
    "bacon_graph.vertices.add(5)\n",
    "print(test.vertices.pop())\n"
   ]
  },
  {
   "cell_type": "markdown",
   "metadata": {},
   "source": [
    "We will start by running regualar BFS between X and Y"
   ]
  }
 ],
 "metadata": {
  "kernelspec": {
   "display_name": "Python 3",
   "language": "python",
   "name": "python3"
  },
  "language_info": {
   "codemirror_mode": {
    "name": "ipython",
    "version": 3
   },
   "file_extension": ".py",
   "mimetype": "text/x-python",
   "name": "python",
   "nbconvert_exporter": "python",
   "pygments_lexer": "ipython3",
   "version": "3.12.6"
  }
 },
 "nbformat": 4,
 "nbformat_minor": 2
}
