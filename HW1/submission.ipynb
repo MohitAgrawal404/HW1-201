{
 "cells": [
  {
   "cell_type": "markdown",
   "metadata": {},
   "source": [
    "# Homework 1: Six Degrees of Kevin Bacon\n",
    "\n",
    "Run the cell below to get all of the methods ready for the BFS and Bi-BFS"
   ]
  },
  {
   "cell_type": "code",
   "execution_count": 46,
   "metadata": {},
   "outputs": [
    {
     "name": "stdout",
     "output_type": "stream",
     "text": [
      "Done making graph...\n"
     ]
    }
   ],
   "source": [
    "from graph_tools import graph\n",
    "from collections import deque\n",
    "\n",
    "def make_graph(file, graph):\n",
    "    # opening the file with the imdb data\n",
    "    g = graph\n",
    "    file = open(file,'r')\n",
    "    # get all lines in a list\n",
    "    lines = file.readlines()\n",
    "    # close the file\n",
    "    file.close()\n",
    "\n",
    "    for line in lines: \n",
    "        # movie name and actors split by space\n",
    "        line_parts = line.split()\n",
    "        #print(line_parts)\n",
    "        # adding all edges from each actor to each other\n",
    "        for actor in range(1, len(line_parts)):\n",
    "            for next in range(actor,len(line_parts)):\n",
    "                g.Add_und_edge(line_parts[actor], line_parts[next], line_parts[0])\n",
    "    print(\"Done making graph...\")\n",
    "\n",
    "bacon_graph = graph() \n",
    "make_graph(\"all_imdb_cleaned.txt\", bacon_graph)\n",
    "# bfs method\n",
    "def bfs(source, dest):\n",
    "    # check to see if the actors are in the graph\n",
    "    if source not in bacon_graph.vertices:\n",
    "        print(source + \" does not exist in the data\")\n",
    "        return source + \" does not exist in the data\"\n",
    "    if dest not in bacon_graph.vertices:\n",
    "        print(dest + \" does not exist in the data\")\n",
    "        return dest + \" does not exist in the data\"\n",
    "    # queue for next to search\n",
    "    queue = deque()\n",
    "    # pred for predeessors \n",
    "    pred = dict()\n",
    "    # visited for previously seen nodes\n",
    "    visited = set()\n",
    "    # mark node1 (source) as visited\n",
    "    pred[source] = None\n",
    "    visited.add(source)\n",
    "    # add node1 to the queue\n",
    "    queue.append(source)\n",
    "    # edge counter\n",
    "    counter = 0\n",
    "    # loop through queue\n",
    "    while len(queue) > 0:\n",
    "        # get the first node in queue\n",
    "        node = queue.popleft()\n",
    "        # check if node is destination\n",
    "        if node == dest:\n",
    "            # generate the path and return it\n",
    "            print(\"Edges visited in BFS: \", counter)\n",
    "            print(get_path(node, pred))\n",
    "            return\n",
    "        # loop through the adjacent vertices of the node\n",
    "        for neighbor in bacon_graph.adj_list[node]:\n",
    "            # check if we've seen neighbor already\n",
    "            if neighbor not in visited:\n",
    "                # add neighbor to visited\n",
    "                visited.add(neighbor)\n",
    "                # set pred node for neighbor to current node \n",
    "                pred[neighbor] = node\n",
    "                # add neighbor to queue\n",
    "                queue.append(neighbor)\n",
    "                # increment counter\n",
    "                counter += 1\n",
    "    print(\"no path found\")\n",
    "    return \"no path found\"\n",
    "\n",
    "# creating the path from source to destination\n",
    "def get_path(node, pred):\n",
    "    # this is where we store the predessesors in order\n",
    "    path = []\n",
    "    # current node tracker\n",
    "    current_node = node\n",
    "    # loop until end of path\n",
    "    while True:\n",
    "        # the prev node comes from the pred dict\n",
    "        prev_node = pred[current_node]\n",
    "        # check if we have reached the source\n",
    "        if prev_node is None:\n",
    "            path.append(current_node)\n",
    "            break\n",
    "  # the movie is set from the adj_list \n",
    "        movie  =  bacon_graph.adj_list[current_node][prev_node]\n",
    "        # if not add the movie and the current node to the path message\n",
    "        path.append(f\" <-{movie}-> {current_node}\")\n",
    "        # set your current node to the pred of itself\n",
    "        current_node = prev_node  \n",
    "    # reverse the path to show from source to destination\n",
    "    path.reverse()\n",
    "    # join all the elements to form on path\n",
    "    return \"\".join(path)\n"
   ]
  },
  {
   "cell_type": "markdown",
   "metadata": {},
   "source": [
    "## Question 1\n",
    "Here I show the inputs from the more_inputs file on the smaller IMDB data as well as an additional inputs to show what happens when there is no path or if a actor is not found\n",
    "\n",
    "*It might truncate the output so click on \"scrollable element\" at the bottom of the output*"
   ]
  },
  {
   "cell_type": "code",
   "execution_count": 47,
   "metadata": {},
   "outputs": [
    {
     "name": "stdout",
     "output_type": "stream",
     "text": [
      "Brad_Pitt Amitabh_Bachchan\n",
      "Edges visited in BFS:  124074\n",
      "Brad_Pitt <-The_Audition-> Leonardo_DiCaprio <-Louder_Together-> Amitabh_Bachchan\n",
      "-----\n",
      "Brad_Pitt Tom_Cruise\n",
      "Edges visited in BFS:  1494\n",
      "Brad_Pitt <-Interview_with_the_Vampire:_The_Vampire_Chronicles-> Tom_Cruise\n",
      "-----\n",
      "Will_Smith Ellen_Page\n",
      "Edges visited in BFS:  18165\n",
      "Will_Smith <-Made_in_America-> Whoopi_Goldberg <-Na_Nai'a:_Legend_of_the_Dolphins-> Ellen_Page\n",
      "-----\n",
      "Marilyn_Monroe Quentin_Tarantino\n",
      "Edges visited in BFS:  138731\n",
      "Marilyn_Monroe <-How_to_Marry_a_Millionaire-> Lauren_Bacall <-Cameraman:_The_Life_and_Work_of_Jack_Cardiff-> Martin_Scorsese <-Corman's_World:_Exploits_of_a_Hollywood_Rebel-> Quentin_Tarantino\n",
      "-----\n",
      "Cassandra_Ciangherotti Meryl_Streep\n",
      "Edges visited in BFS:  35151\n",
      "Cassandra_Ciangherotti <-Viaje_redondo-> Teresa_Ruiz <-Prisoners_of_the_Ghostland-> Nicolas_Cage <-Adaptation.-> Meryl_Streep\n",
      "-----\n",
      "Marion_Cotillard Ethan_Hawke\n",
      "Edges visited in BFS:  41230\n",
      "Marion_Cotillard <-A_Good_Year-> Albert_Finney <-Before_the_Devil_Knows_You're_Dead-> Ethan_Hawke\n",
      "-----\n",
      "Kevin_Bacon Justin_Bieber\n",
      "Edges visited in BFS:  71624\n",
      "Kevin_Bacon <-Queens_Logic-> John_Malkovich <-Zoolander_No._2:_Believe_in_Your_Selfie-> Justin_Bieber\n",
      "-----\n",
      "Frank_Sinatra_Jr. Katherine_Heigl\n",
      "Edges visited in BFS:  74733\n",
      "Frank_Sinatra_Jr. <-Aru_heishi_no_kake-> Toshirô_Mifune <-Shadow_of_the_Wolf-> Jennifer_Tilly <-Bride_of_Chucky-> Katherine_Heigl\n",
      "-----\n",
      "Michael_Cera Viggo_Mortensen\n",
      "Edges visited in BFS:  86063\n",
      "Michael_Cera <-Gloria_Bell-> Julianne_Moore <-Psycho-> Viggo_Mortensen\n",
      "-----\n",
      "Charles_Kayser José_Albano\n",
      "no path found\n",
      "-----\n",
      "Luigi Kevin_Bacon\n",
      "Luigi does not exist in the data\n",
      "-----\n"
     ]
    }
   ],
   "source": [
    "# the actor pairs from the files plus some more\n",
    "actor_pairs = [\n",
    "    (\"Brad_Pitt\", \"Amitabh_Bachchan\"),\n",
    "    (\"Brad_Pitt\", \"Tom_Cruise\"),\n",
    "    (\"Will_Smith\", \"Ellen_Page\"),\n",
    "    (\"Marilyn_Monroe\", \"Quentin_Tarantino\"),\n",
    "    (\"Cassandra_Ciangherotti\", \"Meryl_Streep\"),\n",
    "    (\"Marion_Cotillard\", \"Ethan_Hawke\"),\n",
    "    (\"Kevin_Bacon\", \"Justin_Bieber\"),\n",
    "    (\"Frank_Sinatra_Jr.\", \"Katherine_Heigl\"),\n",
    "    (\"Michael_Cera\", \"Viggo_Mortensen\"),\n",
    "    (\"Charles_Kayser\",\"José_Albano\"),\n",
    "    (\"Luigi\", \"Kevin_Bacon\")\n",
    "]\n",
    "\n",
    "# Loop through each pair and print the BFS result\n",
    "for source, dest in actor_pairs:\n",
    "    print(f\"{source} {dest}\")\n",
    "    bfs(source, dest)\n",
    "    print(\"-----\")"
   ]
  },
  {
   "cell_type": "markdown",
   "metadata": {},
   "source": [
    "# Question 2\n",
    "\n",
    "Here are some fun connections I made"
   ]
  },
  {
   "cell_type": "code",
   "execution_count": 48,
   "metadata": {},
   "outputs": [
    {
     "name": "stdout",
     "output_type": "stream",
     "text": [
      "Chris_Rock Will_Smith\n",
      "Edges visited in BFS:  22433\n",
      "Chris_Rock <-Nurse_Betty-> Renée_Zellweger <-Shark_Tale-> Will_Smith\n",
      "-----\n",
      "Bill_Burr Tom_Cruise\n",
      "Edges visited in BFS:  30641\n",
      "Bill_Burr <-Shades_of_Gray:_Making_Black_or_White-> Kevin_Costner <-Close_Up-> Tom_Cruise\n",
      "-----\n",
      "Timothée_Chalamet Gene_Wilder\n",
      "Edges visited in BFS:  342553\n",
      "Timothée_Chalamet <-A_Journey_of_the_Soul:_The_Making_of_'Hostiles'-> Rosamund_Pike <-Pride_&_Prejudice:_On_Set_Diaries-> Donald_Sutherland <-Start_the_Revolution_Without_Me-> Gene_Wilder\n",
      "-----\n"
     ]
    }
   ],
   "source": [
    "# the actor pairs from the files plus some more\n",
    "actor_pairs = [\n",
    "    (\"Chris_Rock\", \"Will_Smith\"),\n",
    "    (\"Bill_Burr\", \"Tom_Cruise\"),\n",
    "    (\"Timothée_Chalamet\", \"Gene_Wilder\"),\n",
    "]\n",
    "\n",
    "# Loop through each pair and print the BFS result\n",
    "for source, dest in actor_pairs:\n",
    "    print(f\"{source} {dest}\")\n",
    "    bfs(source, dest)\n",
    "    print(\"-----\")"
   ]
  },
  {
   "cell_type": "markdown",
   "metadata": {},
   "source": [
    "# Question 3\n",
    "Here i'm running the same actor pairs but with different files one being all of the credits one being a smaller subset. "
   ]
  },
  {
   "cell_type": "code",
   "execution_count": 50,
   "metadata": {},
   "outputs": [
    {
     "name": "stdout",
     "output_type": "stream",
     "text": [
      "Done making graph...\n",
      "All Credits\n",
      "Chris_Rock Will_Smith\n",
      "Edges visited in BFS:  22433\n",
      "Chris_Rock <-Nurse_Betty-> Renée_Zellweger <-Shark_Tale-> Will_Smith\n",
      "-----\n",
      "Bill_Burr Tom_Cruise\n",
      "Edges visited in BFS:  30641\n",
      "Bill_Burr <-Shades_of_Gray:_Making_Black_or_White-> Kevin_Costner <-Close_Up-> Tom_Cruise\n",
      "-----\n",
      "Timothée_Chalamet Gene_Wilder\n",
      "Edges visited in BFS:  342553\n",
      "Timothée_Chalamet <-A_Journey_of_the_Soul:_The_Making_of_'Hostiles'-> Rosamund_Pike <-Pride_&_Prejudice:_On_Set_Diaries-> Donald_Sutherland <-Start_the_Revolution_Without_Me-> Gene_Wilder\n",
      "-----\n",
      "-----------------------------\n",
      "Done making graph...\n",
      "Smaller Credits\n",
      "Chris_Rock Will_Smith\n",
      "Edges visited in BFS:  8766\n",
      "Chris_Rock <-Grown_Ups-> Kevin_James <-'Hitch':_Love_in_New_York-> Will_Smith\n",
      "-----\n",
      "Bill_Burr Tom_Cruise\n",
      "Edges visited in BFS:  5616\n",
      "Bill_Burr <-Date_Night:_Disaster_Dates-> Mark_Wahlberg <-Putting_It_All_Together:_The_Making_of_'Broken_City'-> Russell_Crowe <-The_Mummy:_Becoming_Jekyll_and_Hyde-> Tom_Cruise\n",
      "-----\n",
      "Timothée_Chalamet Gene_Wilder\n",
      "Gene_Wilder does not exist in the data\n",
      "-----\n"
     ]
    }
   ],
   "source": [
    "actor_pairs = [\n",
    "    (\"Chris_Rock\", \"Will_Smith\"),\n",
    "    (\"Bill_Burr\", \"Tom_Cruise\"),\n",
    "    (\"Timothée_Chalamet\", \"Gene_Wilder\"),\n",
    "]\n",
    "\n",
    "# All\n",
    "bacon_graph = graph() \n",
    "make_graph(\"all_imdb_cleaned.txt\", bacon_graph)\n",
    "print(\"All Credits\")\n",
    "for source, dest in actor_pairs:\n",
    "    print(f\"{source} {dest}\")\n",
    "    bfs(source, dest)\n",
    "    print(\"-----\")\n",
    "\n",
    "print(\"-----------------------------\")\n",
    "# Smaller\n",
    "bacon_graph = graph() \n",
    "make_graph(\"smaller_imdb_cleaned.txt\", bacon_graph)\n",
    "print(\"Smaller Credits\")\n",
    "for source, dest in actor_pairs:\n",
    "    print(f\"{source} {dest}\")\n",
    "    bfs(source, dest)\n",
    "    print(\"-----\")"
   ]
  },
  {
   "cell_type": "markdown",
   "metadata": {},
   "source": [
    "We can see that in the smaller subset some actors clearly just don't exist in them. Another thing we notice is the smaller number of edges traversed to get a solution. Between actors Bill_Burr and Tom_Cruise that in the all credits it's path is only 2 degrees away while in the subset it is 3 degrees away showing that the bigger dataset instroduced some new edges that alowed for the two actors to find a shorter path. "
   ]
  },
  {
   "cell_type": "markdown",
   "metadata": {},
   "source": [
    "# Question 4"
   ]
  },
  {
   "cell_type": "code",
   "execution_count": null,
   "metadata": {},
   "outputs": [],
   "source": []
  }
 ],
 "metadata": {
  "kernelspec": {
   "display_name": "Python 3",
   "language": "python",
   "name": "python3"
  },
  "language_info": {
   "codemirror_mode": {
    "name": "ipython",
    "version": 3
   },
   "file_extension": ".py",
   "mimetype": "text/x-python",
   "name": "python",
   "nbconvert_exporter": "python",
   "pygments_lexer": "ipython3",
   "version": "3.12.8"
  }
 },
 "nbformat": 4,
 "nbformat_minor": 2
}
